{
 "cells": [
  {
   "cell_type": "code",
   "execution_count": 2,
   "metadata": {},
   "outputs": [],
   "source": [
    "import pyarrow as pa\n",
    "import pandas as pd"
   ]
  },
  {
   "cell_type": "code",
   "execution_count": 9,
   "metadata": {},
   "outputs": [],
   "source": [
    "df = pd.read_json(\"./climate.json\")"
   ]
  },
  {
   "cell_type": "code",
   "execution_count": 10,
   "metadata": {},
   "outputs": [],
   "source": [
    "# convert the date property to a datetime object\n",
    "df[\"date\"] = pd.to_datetime(df[\"date\"])"
   ]
  },
  {
   "cell_type": "code",
   "execution_count": 11,
   "metadata": {},
   "outputs": [],
   "source": [
    "df[\"year\"] = df[\"year\"].apply(lambda x: int(x))"
   ]
  },
  {
   "cell_type": "code",
   "execution_count": 12,
   "metadata": {},
   "outputs": [
    {
     "data": {
      "text/html": [
       "<div>\n",
       "<style scoped>\n",
       "    .dataframe tbody tr th:only-of-type {\n",
       "        vertical-align: middle;\n",
       "    }\n",
       "\n",
       "    .dataframe tbody tr th {\n",
       "        vertical-align: top;\n",
       "    }\n",
       "\n",
       "    .dataframe thead th {\n",
       "        text-align: right;\n",
       "    }\n",
       "</style>\n",
       "<table border=\"1\" class=\"dataframe\">\n",
       "  <thead>\n",
       "    <tr style=\"text-align: right;\">\n",
       "      <th></th>\n",
       "      <th>day</th>\n",
       "      <th>year</th>\n",
       "      <th>date</th>\n",
       "      <th>temp</th>\n",
       "      <th>diff</th>\n",
       "    </tr>\n",
       "  </thead>\n",
       "  <tbody>\n",
       "    <tr>\n",
       "      <th>0</th>\n",
       "      <td>0</td>\n",
       "      <td>1979</td>\n",
       "      <td>1979-01-01 05:00:00+00:00</td>\n",
       "      <td>12.311</td>\n",
       "      <td>-0.085091</td>\n",
       "    </tr>\n",
       "    <tr>\n",
       "      <th>1</th>\n",
       "      <td>1</td>\n",
       "      <td>1979</td>\n",
       "      <td>1979-01-02 05:00:00+00:00</td>\n",
       "      <td>12.293</td>\n",
       "      <td>-0.116182</td>\n",
       "    </tr>\n",
       "    <tr>\n",
       "      <th>2</th>\n",
       "      <td>2</td>\n",
       "      <td>1979</td>\n",
       "      <td>1979-01-03 05:00:00+00:00</td>\n",
       "      <td>12.274</td>\n",
       "      <td>-0.109136</td>\n",
       "    </tr>\n",
       "    <tr>\n",
       "      <th>3</th>\n",
       "      <td>3</td>\n",
       "      <td>1979</td>\n",
       "      <td>1979-01-04 05:00:00+00:00</td>\n",
       "      <td>12.230</td>\n",
       "      <td>-0.132273</td>\n",
       "    </tr>\n",
       "    <tr>\n",
       "      <th>4</th>\n",
       "      <td>4</td>\n",
       "      <td>1979</td>\n",
       "      <td>1979-01-05 05:00:00+00:00</td>\n",
       "      <td>12.273</td>\n",
       "      <td>-0.075727</td>\n",
       "    </tr>\n",
       "    <tr>\n",
       "      <th>...</th>\n",
       "      <td>...</td>\n",
       "      <td>...</td>\n",
       "      <td>...</td>\n",
       "      <td>...</td>\n",
       "      <td>...</td>\n",
       "    </tr>\n",
       "    <tr>\n",
       "      <th>16232</th>\n",
       "      <td>172</td>\n",
       "      <td>2023</td>\n",
       "      <td>2023-06-22 04:00:00+00:00</td>\n",
       "      <td>16.624</td>\n",
       "      <td>0.524273</td>\n",
       "    </tr>\n",
       "    <tr>\n",
       "      <th>16233</th>\n",
       "      <td>173</td>\n",
       "      <td>2023</td>\n",
       "      <td>2023-06-23 04:00:00+00:00</td>\n",
       "      <td>16.649</td>\n",
       "      <td>0.554773</td>\n",
       "    </tr>\n",
       "    <tr>\n",
       "      <th>16234</th>\n",
       "      <td>174</td>\n",
       "      <td>2023</td>\n",
       "      <td>2023-06-24 04:00:00+00:00</td>\n",
       "      <td>16.758</td>\n",
       "      <td>0.657773</td>\n",
       "    </tr>\n",
       "    <tr>\n",
       "      <th>16235</th>\n",
       "      <td>175</td>\n",
       "      <td>2023</td>\n",
       "      <td>2023-06-25 04:00:00+00:00</td>\n",
       "      <td>16.795</td>\n",
       "      <td>0.676045</td>\n",
       "    </tr>\n",
       "    <tr>\n",
       "      <th>16236</th>\n",
       "      <td>176</td>\n",
       "      <td>2023</td>\n",
       "      <td>2023-06-26 04:00:00+00:00</td>\n",
       "      <td>16.806</td>\n",
       "      <td>0.663318</td>\n",
       "    </tr>\n",
       "  </tbody>\n",
       "</table>\n",
       "<p>16237 rows × 5 columns</p>\n",
       "</div>"
      ],
      "text/plain": [
       "       day  year                      date    temp      diff\n",
       "0        0  1979 1979-01-01 05:00:00+00:00  12.311 -0.085091\n",
       "1        1  1979 1979-01-02 05:00:00+00:00  12.293 -0.116182\n",
       "2        2  1979 1979-01-03 05:00:00+00:00  12.274 -0.109136\n",
       "3        3  1979 1979-01-04 05:00:00+00:00  12.230 -0.132273\n",
       "4        4  1979 1979-01-05 05:00:00+00:00  12.273 -0.075727\n",
       "...    ...   ...                       ...     ...       ...\n",
       "16232  172  2023 2023-06-22 04:00:00+00:00  16.624  0.524273\n",
       "16233  173  2023 2023-06-23 04:00:00+00:00  16.649  0.554773\n",
       "16234  174  2023 2023-06-24 04:00:00+00:00  16.758  0.657773\n",
       "16235  175  2023 2023-06-25 04:00:00+00:00  16.795  0.676045\n",
       "16236  176  2023 2023-06-26 04:00:00+00:00  16.806  0.663318\n",
       "\n",
       "[16237 rows x 5 columns]"
      ]
     },
     "execution_count": 12,
     "metadata": {},
     "output_type": "execute_result"
    }
   ],
   "source": [
    "df"
   ]
  },
  {
   "cell_type": "code",
   "execution_count": 14,
   "metadata": {},
   "outputs": [],
   "source": [
    "df.to_parquet(\"./climate.parquet\")"
   ]
  }
 ],
 "metadata": {
  "kernelspec": {
   "display_name": "Python 3",
   "language": "python",
   "name": "python3"
  },
  "language_info": {
   "codemirror_mode": {
    "name": "ipython",
    "version": 3
   },
   "file_extension": ".py",
   "mimetype": "text/x-python",
   "name": "python",
   "nbconvert_exporter": "python",
   "pygments_lexer": "ipython3",
   "version": "3.11.2"
  },
  "orig_nbformat": 4
 },
 "nbformat": 4,
 "nbformat_minor": 2
}
